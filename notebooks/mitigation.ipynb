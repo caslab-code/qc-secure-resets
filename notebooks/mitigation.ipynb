{
 "cells": [
  {
   "cell_type": "markdown",
   "metadata": {},
   "source": [
    "# Mitigating State Leakage Across Reset Gates"
   ]
  },
  {
   "cell_type": "markdown",
   "metadata": {},
   "source": [
    "Copyright 2022 Allen Mi, Shuwen Deng, and Jakub Szefer\n",
    "\n",
    "This program is free software: you can redistribute it and/or modify it under the terms of the GNU General Public License as published by the Free Software Foundation, either version 3 of the License, or (at your option) any later version.\n",
    "\n",
    "This program is distributed in the hope that it will be useful, but WITHOUT ANY WARRANTY; without even the implied warranty of MERCHANTABILITY or FITNESS FOR A PARTICULAR PURPOSE. See the GNU General Public License for more details.\n",
    "\n",
    "You should have received a copy of the GNU General Public License along with this program. If not, see <https://www.gnu.org/licenses/>."
   ]
  },
  {
   "cell_type": "markdown",
   "metadata": {},
   "source": [
    "## 1 - Imports and Definitions"
   ]
  },
  {
   "cell_type": "markdown",
   "metadata": {},
   "source": [
    "Import libraries"
   ]
  },
  {
   "cell_type": "code",
   "execution_count": null,
   "metadata": {},
   "outputs": [],
   "source": [
    "%load_ext autoreload\n",
    "%autoreload 2"
   ]
  },
  {
   "cell_type": "code",
   "execution_count": null,
   "metadata": {},
   "outputs": [],
   "source": [
    "import sys\n",
    "sys.path.append('../')"
   ]
  },
  {
   "cell_type": "code",
   "execution_count": null,
   "metadata": {},
   "outputs": [],
   "source": [
    "from itertools import combinations, product\n",
    "import math\n",
    "\n",
    "import numpy as np\n",
    "import pandas as pd\n",
    "import plotly.express as px\n",
    "import plotly.graph_objects as go\n",
    "from plotly.subplots import make_subplots\n",
    "from scipy.optimize import curve_fit, fsolve\n",
    "\n",
    "from qiskit import QuantumCircuit, transpile, execute\n",
    "\n",
    "import scripts.utils as u"
   ]
  },
  {
   "cell_type": "markdown",
   "metadata": {},
   "source": [
    "Load IBM Q Credentials"
   ]
  },
  {
   "cell_type": "code",
   "execution_count": null,
   "metadata": {},
   "outputs": [],
   "source": [
    "provider = u.load_provider('../credentials/provider.json')"
   ]
  },
  {
   "cell_type": "markdown",
   "metadata": {},
   "source": [
    "Specify saved data and figures directories"
   ]
  },
  {
   "cell_type": "code",
   "execution_count": null,
   "metadata": {},
   "outputs": [],
   "source": [
    "data_dir = '../experiments/inference/lagos_1q_32r_72c_1p'\n",
    "figures_dir = '../figures/inference/lagos_1q_32r_72c_1p'"
   ]
  },
  {
   "cell_type": "markdown",
   "metadata": {},
   "source": [
    "Specify constants\n",
    "- Total number of qubits\n",
    "- Width of two-column figures"
   ]
  },
  {
   "cell_type": "code",
   "execution_count": null,
   "metadata": {},
   "outputs": [],
   "source": [
    "N_QUBITS = 7\n",
    "FIG_SINGLE_WIDTH = 714\n",
    "FIG_DOUBLE_WIDTH = 1500"
   ]
  },
  {
   "cell_type": "markdown",
   "metadata": {},
   "source": [
    "Specify global variables\n",
    "- Maximum number of reset operations\n",
    "- Number of shots to be performed in experiments\n",
    "- Number of $\\theta$ samples in $[0, \\pi]$\n",
    "- Number of $\\varphi$ samples in $[0, 2\\pi)$\n",
    "- Number of experiment passes"
   ]
  },
  {
   "cell_type": "code",
   "execution_count": null,
   "metadata": {},
   "outputs": [],
   "source": [
    "MAX_N_RESETS = 32\n",
    "N_SHOTS = 8192\n",
    "N_THETA = 9\n",
    "N_PHI = 8\n",
    "N_PASSES = 1"
   ]
  },
  {
   "cell_type": "markdown",
   "metadata": {},
   "source": [
    "Specify backend names"
   ]
  },
  {
   "cell_type": "code",
   "execution_count": null,
   "metadata": {},
   "outputs": [],
   "source": [
    "be_name_list = ['ibm_lagos']"
   ]
  },
  {
   "cell_type": "markdown",
   "metadata": {},
   "source": [
    "Specify backend proper names"
   ]
  },
  {
   "cell_type": "code",
   "execution_count": null,
   "metadata": {},
   "outputs": [],
   "source": [
    "be_proper_name_dict = {\n",
    "    'ibm_perth': 'Perth',\n",
    "    'ibm_lagos': 'Lagos',\n",
    "    'ibmq_jakarta': 'Jakarta'\n",
    "}"
   ]
  },
  {
   "cell_type": "markdown",
   "metadata": {},
   "source": [
    "## 2 - Experiments"
   ]
  },
  {
   "cell_type": "markdown",
   "metadata": {},
   "source": [
    "### 2.1 - Defining Methods"
   ]
  },
  {
   "cell_type": "code",
   "execution_count": null,
   "metadata": {},
   "outputs": [],
   "source": [
    "def make_config_list(n_theta, n_phi):\n",
    "    theta_arr = np.linspace(0, np.pi, n_theta, endpoint=True)\n",
    "    phi_arr = np.linspace(0, 2 * np.pi, n_phi, endpoint=False)\n",
    "\n",
    "    return list(product(theta_arr, phi_arr))\n",
    "\n",
    "\n",
    "def construct_circ(q, theta, phi, measure_first, reset_count):\n",
    "    c = QuantumCircuit(7, 2)\n",
    "    c.rx(theta, q)\n",
    "    c.rz(phi, q)\n",
    "    if measure_first:\n",
    "        c.measure(q, 0)\n",
    "    c.delay(4512 * 500, q)\n",
    "    c.measure(q, 1)\n",
    "    \n",
    "    return c\n",
    "\n",
    "\n",
    "def make_circuit_dict(config_arr, max_n_resets, n_passes):\n",
    "    cd = {'meas': []}\n",
    "\n",
    "    for q in range(1):\n",
    "        cd['meas'].append([])\n",
    "        for r in range(max_n_resets + 1):\n",
    "            cd['meas'][q].append([\n",
    "                construct_circ(q, theta, phi, True, r)\n",
    "                for _, (theta, phi) in product(range(n_passes), config_arr)\n",
    "            ])\n",
    "    return cd\n",
    "\n",
    "\n",
    "exec = lambda c, be_name, shots: execute(\n",
    "    transpile(c, backend=provider.get_backend(be_name), optimization_level=0),\n",
    "    backend=provider.get_backend(be_name), optimization_level=0,\n",
    "    shots=shots\n",
    ")\n",
    "\n",
    "def make_all_jobs(circuit_dict, max_n_resets, n_shots):\n",
    "    all_jd = {}\n",
    "\n",
    "    for be_name in ['ibm_lagos']:\n",
    "        jd = {'meas': []}\n",
    "        for q in range(1):\n",
    "            jd['meas'].append([])\n",
    "            for r in range(1):\n",
    "                jd['meas'][q].append(\n",
    "                    exec(circuit_dict['meas'][q][r], be_name, n_shots)\n",
    "                )\n",
    "        all_jd[be_name] = jd\n",
    "    \n",
    "    return all_jd"
   ]
  },
  {
   "cell_type": "code",
   "execution_count": null,
   "metadata": {},
   "outputs": [],
   "source": [
    "def get_counts(job):\n",
    "    cnt = job.result().get_counts()\n",
    "    v1 = [r.get('01', 0) + r.get('11', 0) for r in cnt]\n",
    "    a1 = [r.get('10', 0) + r.get('11', 0) for r in cnt]\n",
    "    \n",
    "    return v1, a1"
   ]
  },
  {
   "cell_type": "code",
   "execution_count": null,
   "metadata": {},
   "outputs": [],
   "source": [
    "def make_results(all_jobs, configs, n_shots, n_passes, is_idle=False, n_resets_override=None):\n",
    "    pre = []\n",
    "    \n",
    "    for be_name, x in all_jobs.items():\n",
    "        for victim_op, y in x.items():\n",
    "            for i_q, z in enumerate(y):\n",
    "                for i_r, job in enumerate(z):\n",
    "                    if n_resets_override is not None:\n",
    "                        i_r = n_resets_override[i_r]\n",
    "                    v1, a1 = get_counts(job)\n",
    "                    pre.extend([[\n",
    "                        be_name, i_q,\n",
    "                        victim_op, is_idle,\n",
    "                        i_r,\n",
    "                        theta, phi,\n",
    "                        i_pass,\n",
    "                        v1[i_c], v1[i_c] / n_shots,\n",
    "                        a1[i_c], a1[i_c] / n_shots\n",
    "                    ] for i_c, (i_pass, (theta, phi)) in enumerate(\n",
    "                        product(range(n_passes), configs)\n",
    "                    )])\n",
    "    \n",
    "    return pd.DataFrame(\n",
    "        pre,\n",
    "        columns=[\n",
    "            'backend', 'qubit',\n",
    "            'victim_op', 'is_idle',\n",
    "            'n_resets',\n",
    "            'theta', 'phi',\n",
    "            'i_pass',\n",
    "            'victim_count', 'victim_frequency',\n",
    "            'attacker_count', 'attacker_frequency'\n",
    "        ]\n",
    "    )"
   ]
  },
  {
   "cell_type": "markdown",
   "metadata": {},
   "source": [
    "### 2.2 - Thermalization (Idle) Results"
   ]
  },
  {
   "cell_type": "code",
   "execution_count": null,
   "metadata": {},
   "outputs": [],
   "source": [
    "idle_results_list = []\n",
    "\n",
    "# idles equivalent to 0 to 12 resets, each with 72 configurations\n",
    "configs = make_config_list(N_THETA, N_PHI)\n",
    "jobs = u.load(f'{data_dir}/idle_0-12@1.pickle')\n",
    "jobs['ibm_lagos']['meas'][0] = jobs['ibm_lagos']['meas'][0][:13]\n",
    "idle_results_list.append(\n",
    "    make_results(jobs, configs, N_SHOTS, N_PASSES, is_idle=True, n_resets_override=range(13))\n",
    ")\n",
    "\n",
    "# idles equivalent to 16 to 32 resets, in intervals of 4 resets, each with 72 configurations\n",
    "configs = make_config_list(N_THETA, N_PHI)\n",
    "jobs = u.load(f'{data_dir}/idle_16-32@4.pickle')\n",
    "idle_results_list.append(\n",
    "    make_results(jobs, configs, N_SHOTS, N_PASSES, is_idle=True, n_resets_override=range(16, 33, 4))\n",
    ")\n",
    "\n",
    "# idles equivalent to 250, 1000, 2000, 4000, 8000 resets, each with 2 configurations (theta = 0 or pi)\n",
    "configs = make_config_list(2, 1)\n",
    "for n_resets_standalone in [250, 1000, 2000, 4000, 8000]:\n",
    "    jobs = u.load(f'{data_dir}/idle_{n_resets_standalone}.pickle')\n",
    "    idle_results_list.append(\n",
    "        make_results(jobs, configs, N_SHOTS, N_PASSES, is_idle=True, n_resets_override=[n_resets_standalone])\n",
    "    )"
   ]
  },
  {
   "cell_type": "code",
   "execution_count": null,
   "metadata": {},
   "outputs": [],
   "source": [
    "idle_results = pd.concat(idle_results_list, ignore_index=True)\n",
    "u.save(idle_results, f'{data_dir}/idle_results.pickle')"
   ]
  },
  {
   "cell_type": "code",
   "execution_count": null,
   "metadata": {},
   "outputs": [],
   "source": [
    "idle_results = u.load(f'{data_dir}/idle_results.pickle')"
   ]
  },
  {
   "cell_type": "markdown",
   "metadata": {},
   "source": [
    "### 2.3 - Repeated Resets Results"
   ]
  },
  {
   "cell_type": "code",
   "execution_count": null,
   "metadata": {},
   "outputs": [],
   "source": [
    "jobs = u.load(f'{data_dir}/jobs.pickle')\n",
    "jobs = {'ibm_lagos': {'meas': [jobs['ibm_lagos']['meas'][0]]}}"
   ]
  },
  {
   "cell_type": "code",
   "execution_count": null,
   "metadata": {},
   "outputs": [],
   "source": [
    "configs = make_config_list(N_THETA, N_PHI)\n",
    "reset_results = make_results(jobs, configs, N_SHOTS, N_PASSES)\n",
    "u.save(reset_results, f'{data_dir}/reset_results.pickle')"
   ]
  },
  {
   "cell_type": "code",
   "execution_count": null,
   "metadata": {},
   "outputs": [],
   "source": [
    "reset_results = u.load(f'{data_dir}/reset_results.pickle')"
   ]
  },
  {
   "cell_type": "code",
   "execution_count": null,
   "metadata": {},
   "outputs": [],
   "source": [
    "raw_results = pd.concat([reset_results, idle_results.iloc[:-10]], ignore_index=True)"
   ]
  },
  {
   "cell_type": "code",
   "execution_count": null,
   "metadata": {},
   "outputs": [],
   "source": [
    "raw_results = raw_results[\n",
    "    (\n",
    "        (raw_results.theta==0) |\n",
    "        (raw_results.theta==np.pi)\n",
    "    )\n",
    "]\n",
    "raw_results.reset_index(drop=True, inplace=True)"
   ]
  },
  {
   "cell_type": "code",
   "execution_count": null,
   "metadata": {},
   "outputs": [],
   "source": [
    "mean_list = []\n",
    "for r in range(0, len(raw_results), N_PHI):\n",
    "    h = raw_results.iloc[[r]]\n",
    "    s = raw_results.iloc[r: r + N_PHI]\n",
    "    victim_count = s.victim_count.sum()\n",
    "    victim_frequency = s.victim_frequency.mean()\n",
    "    attacker_count = s.attacker_count.sum()\n",
    "    attacker_frequency = s.attacker_frequency.mean()\n",
    "    if h.is_idle.values[0]:\n",
    "        typ = 'Thermalization'\n",
    "    else:\n",
    "        typ = 'Repeated Resets'\n",
    "    mean_list.append([\n",
    "        h.backend.values[0], typ,\n",
    "        h.n_resets.values[0], h.theta.values[0],\n",
    "        victim_count, victim_frequency,\n",
    "        attacker_count, attacker_frequency\n",
    "    ])\n",
    "results = pd.DataFrame(\n",
    "    mean_list,\n",
    "    columns=[\n",
    "        'backend', 'type', 'n_resets', 'theta', 'victim_count', 'victim_frequency', 'attacker_count', 'attacker_frequency'\n",
    "    ]\n",
    ")"
   ]
  },
  {
   "cell_type": "code",
   "execution_count": null,
   "metadata": {},
   "outputs": [],
   "source": [
    "# add victim state label\n",
    "results['victim_state'] = (results.theta == np.pi).astype(int).astype(str)"
   ]
  },
  {
   "cell_type": "code",
   "execution_count": null,
   "metadata": {},
   "outputs": [],
   "source": [
    "# add std\n",
    "results['attacker_std'] = np.sqrt(results.attacker_frequency * (1 - results.attacker_frequency) / N_SHOTS / 8)"
   ]
  },
  {
   "cell_type": "code",
   "execution_count": null,
   "metadata": {},
   "outputs": [],
   "source": [
    "# add security parameter and K-L divergence\n",
    "results['sec_param'] = 0\n",
    "results['kl_divergence'] = 0\n",
    "for i, r0 in results.iterrows():\n",
    "    if i % 2 == 0:\n",
    "        r1 = results.iloc[[i + 1]]\n",
    "        p0 = r0.attacker_frequency\n",
    "        p1 = r1.attacker_frequency\n",
    "        sec_param = (p1 - p0) / (r1.attacker_std + r0.attacker_std)\n",
    "        kl_divergence = N_SHOTS * 8 * (p0 * np.log(p0 / p1) + (1 - p0) * np.log((1 - p0) / (1 - p1)))\n",
    "        results.iloc[i, -2] = sec_param\n",
    "        results.iloc[i + 1, -2] = sec_param\n",
    "        results.iloc[i, -1] = kl_divergence\n",
    "        results.iloc[i + 1, -1] = kl_divergence\n",
    "        \n",
    "\n",
    "# absolute value\n",
    "results['sec_param_abs'] = abs(results['sec_param'])\n",
    "\n",
    "# direction\n",
    "results['sec_param_is_forward'] = results['sec_param'] > 0"
   ]
  },
  {
   "cell_type": "code",
   "execution_count": null,
   "metadata": {},
   "outputs": [],
   "source": [
    "freq_arr = np.zeros([32, 2])\n",
    "kl_arr = np.zeros(32, dtype=int)\n",
    "for r in range(32):\n",
    "    s = results[results.type=='Repeated Resets'].iloc[2 * r: 2 * r + 2]\n",
    "    freq_arr[r] = s['attacker_frequency'].values\n",
    "    kl_arr[r] = s['kl_divergence'].values[0]"
   ]
  },
  {
   "cell_type": "code",
   "execution_count": null,
   "metadata": {},
   "outputs": [],
   "source": [
    "best_kl = np.zeros_like(kl_arr)\n",
    "for r in range(32):\n",
    "    kl = kl_arr[:r + 1]\n",
    "    best_kl[r] = kl.argmin()"
   ]
  },
  {
   "cell_type": "markdown",
   "metadata": {},
   "source": [
    "### 2.4 - Choices for Reset Sequence"
   ]
  },
  {
   "cell_type": "code",
   "execution_count": null,
   "metadata": {},
   "outputs": [],
   "source": [
    "choices = []\n",
    "for r in range(32):\n",
    "    fr = freq_arr[:r + 1]\n",
    "    combs = list(combinations(enumerate(fr), 2))\n",
    "    if not combs:\n",
    "        choices.append({r: 1.0})\n",
    "        continue\n",
    "    best_mean = np.inf\n",
    "    best_choice = {}\n",
    "    for (i, pi), (j, pj) in combs:\n",
    "        di = pi[1] - pi[0]\n",
    "        dj = pj[1] - pj[0]\n",
    "        if di == 0:\n",
    "            choices.append({i: 1.0})\n",
    "            break\n",
    "        elif dj == 0:\n",
    "            choices.append({j: 1.0})\n",
    "            break\n",
    "        elif np.sign(di) != np.sign(dj):\n",
    "            fi = -dj / (di - dj)\n",
    "            fj = di / (di - dj)\n",
    "            assert np.isclose(fi * di, -fj * dj)\n",
    "            assert np.isclose(fi + fj, 1)\n",
    "            mean = fi * pi.mean() + fj * pj.mean()\n",
    "            if mean < best_mean:\n",
    "                best_choice = {i: fi, j: fj}\n",
    "                best_mean = mean\n",
    "    if not best_choice:\n",
    "        best_choice = {best_kl[r]: 1.0}\n",
    "            \n",
    "    choices.append(best_choice)"
   ]
  },
  {
   "cell_type": "code",
   "execution_count": null,
   "metadata": {},
   "outputs": [],
   "source": [
    "add_list = []\n",
    "for r in range(32):\n",
    "    f0 = 0\n",
    "    f1 = 0\n",
    "    for k, v in choices[r].items():\n",
    "        f0 += v * freq_arr[k][0]\n",
    "        f1 += v * freq_arr[k][1]\n",
    "    if len(choices[r]) > 1:\n",
    "        assert np.isclose(f0, f1)\n",
    "        kl = 0\n",
    "    else:\n",
    "        kl = N_SHOTS * 8 * (f0 * np.log(f0 / f1) + (1 - f0) * np.log((1 - f0) / (1 - f1)))\n",
    "    for f, vs in [(f0, '0'), (f1, '1')]:\n",
    "        add_list.append(\n",
    "            [\n",
    "                'ibm_lagos', 'Secure Reset', r, 0.0,\n",
    "                np.nan, np.nan, np.nan, f,\n",
    "                vs, np.nan, np.nan,\n",
    "                kl,\n",
    "                np.nan, np.nan\n",
    "            ]\n",
    "        )"
   ]
  },
  {
   "cell_type": "markdown",
   "metadata": {},
   "source": [
    "### 2.5 - Secure Reset Results"
   ]
  },
  {
   "cell_type": "code",
   "execution_count": null,
   "metadata": {},
   "outputs": [],
   "source": [
    "secure_results = pd.DataFrame(\n",
    "    add_list,\n",
    "    columns=[\n",
    "        'backend', 'type', 'n_resets', 'theta', 'victim_count', 'victim_frequency', 'attacker_count', 'attacker_frequency',\n",
    "        'victim_state', 'attacker_std', 'sec_param', 'kl_divergence', 'sec_param_abs', 'sec_param_is_forward'\n",
    "    ]\n",
    ")"
   ]
  },
  {
   "cell_type": "code",
   "execution_count": null,
   "metadata": {
    "scrolled": false
   },
   "outputs": [],
   "source": [
    "results = pd.concat([results, secure_results], ignore_index=True)"
   ]
  },
  {
   "cell_type": "markdown",
   "metadata": {},
   "source": [
    "## 2.6 - Plotting"
   ]
  },
  {
   "cell_type": "markdown",
   "metadata": {},
   "source": [
    "Figure 10"
   ]
  },
  {
   "cell_type": "code",
   "execution_count": null,
   "metadata": {},
   "outputs": [],
   "source": [
    "fig = px.scatter(\n",
    "    results[\n",
    "        (results.n_resets<=32) &\n",
    "        (results.victim_state=='0')\n",
    "    ],\n",
    "    x='n_resets', y='kl_divergence', color='type', log_y=True,\n",
    "    trendline='lowess', trendline_options=dict(frac=0.1),\n",
    "    category_orders={'type': ['Thermalization', 'Repeated Resets', 'Secure Reset']},\n",
    "    labels={\n",
    "        'type': 'Reset Type',\n",
    "        'kl_divergence': 'K-L Divergence',\n",
    "        'n_resets': 'Maximum Time Budget, in Number of Resets'\n",
    "    },\n",
    "    title='K-L Divergence of Attacker Measurements Between 0/1-Output Victims',\n",
    ")\n",
    "fig.add_hline(\n",
    "    y=0.1,\n",
    "    line_dash='dash',\n",
    ")\n",
    "fig.update_layout(\n",
    "    margin=dict(l=0, r=0, t=55, b=50, pad=0),\n",
    "    height=400,\n",
    ")\n",
    "fig.show()"
   ]
  },
  {
   "cell_type": "code",
   "execution_count": null,
   "metadata": {},
   "outputs": [],
   "source": [
    "fig.write_image(f'{figures_dir}/kl_divergence.pdf', width=FIG_SINGLE_WIDTH)"
   ]
  },
  {
   "cell_type": "markdown",
   "metadata": {},
   "source": [
    "Figure 11"
   ]
  },
  {
   "cell_type": "code",
   "execution_count": null,
   "metadata": {},
   "outputs": [],
   "source": [
    "fig = px.scatter(\n",
    "    results[\n",
    "        (results.n_resets<=32) &\n",
    "        (results.victim_state=='1')\n",
    "    ],\n",
    "    x='n_resets', y='attacker_frequency', color='type', log_y=True,\n",
    "    trendline='lowess', trendline_options=dict(frac=0.1),\n",
    "    category_orders={'type': ['Thermalization', 'Repeated Resets', 'Secure Reset']},\n",
    "    labels={\n",
    "        'type': 'Reset Type',\n",
    "        'attacker_frequency': 'Attacker 1-Output Frequency',\n",
    "        'n_resets': 'Maximum Time Budget, in Number of Resets'\n",
    "    },\n",
    "    title='Attacker 1-Output Frequency Given 1-Output Victim',\n",
    ")\n",
    "fig.add_hline(\n",
    "    y=0.015,\n",
    "    line_dash='dash',\n",
    ")\n",
    "fig.update_layout(\n",
    "    margin=dict(l=0, r=0, t=55, b=50, pad=0),\n",
    "    height=400,\n",
    ")\n",
    "fig.show()"
   ]
  },
  {
   "cell_type": "code",
   "execution_count": null,
   "metadata": {},
   "outputs": [],
   "source": [
    "fig.write_image(f'{figures_dir}/freq.pdf', width=FIG_SINGLE_WIDTH)"
   ]
  },
  {
   "cell_type": "markdown",
   "metadata": {},
   "source": [
    "Figure 7"
   ]
  },
  {
   "cell_type": "code",
   "execution_count": null,
   "metadata": {},
   "outputs": [],
   "source": [
    "fig = px.scatter(\n",
    "    results[\n",
    "        (results.n_resets >= 1) &\n",
    "        (results.type=='Repeated Resets')\n",
    "    ],\n",
    "    x='n_resets', y='attacker_frequency', color='victim_state', error_y='attacker_std',\n",
    "    log_x=False, log_y=True,\n",
    "    trendline='lowess', trendline_options=dict(frac=0.1),\n",
    "    labels={\n",
    "        'victim_state': 'Victim Output',\n",
    "        'attacker_frequency': 'Attacker 1-Output Frequency',\n",
    "        'n_resets': 'Number of Repeated Resets'\n",
    "    },\n",
    "    title='Extended State Retention - Lagos, up to 32 Repeated Resets',\n",
    "    color_discrete_sequence=px.colors.qualitative.Set2\n",
    ")\n",
    "fig.update_layout(legend=dict(\n",
    "    yanchor=\"top\",\n",
    "    y=1,\n",
    "    xanchor=\"right\",\n",
    "    x=1\n",
    "))\n",
    "fig.update_layout(\n",
    "    margin=dict(l=0, r=0, t=55, b=50, pad=0),\n",
    "    height=300,\n",
    ")\n",
    "fig.show()"
   ]
  },
  {
   "cell_type": "code",
   "execution_count": null,
   "metadata": {},
   "outputs": [],
   "source": [
    "fig.write_image(f'{figures_dir}/sweep.pdf', width=FIG_DOUBLE_WIDTH)"
   ]
  }
 ],
 "metadata": {
  "interpreter": {
   "hash": "b48b20d10b3aefbd7cd71500cd0fd70072d2233180efcae0efdada250f162269"
  },
  "kernelspec": {
   "display_name": "Python 3 (ipykernel)",
   "language": "python",
   "name": "python3"
  },
  "language_info": {
   "codemirror_mode": {
    "name": "ipython",
    "version": 3
   },
   "file_extension": ".py",
   "mimetype": "text/x-python",
   "name": "python",
   "nbconvert_exporter": "python",
   "pygments_lexer": "ipython3",
   "version": "3.9.7"
  }
 },
 "nbformat": 4,
 "nbformat_minor": 2
}
